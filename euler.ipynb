{
 "cells": [
  {
   "cell_type": "markdown",
   "metadata": {},
   "source": [
    "# Euler Problem #24 [[link]](https://projecteuler.net/problem=24)"
   ]
  },
  {
   "cell_type": "markdown",
   "metadata": {},
   "source": [
    "<p>A permutation is an ordered arrangement of objects. For example, 3124 is one possible permutation of the digits 1, 2, 3 and 4. If all of the permutations are listed numerically or alphabetically, we call it lexicographic order. The lexicographic permutations of 0, 1 and 2 are:</p>\n",
    "<p class=\"center\">012   021   102   120   201   210</p>\n",
    "<p>What is the millionth lexicographic permutation of the digits 0, 1, 2, 3, 4, 5, 6, 7, 8 and 9?</p>"
   ]
  },
  {
   "cell_type": "code",
   "execution_count": 4,
   "metadata": {},
   "outputs": [
    {
     "name": "stdout",
     "output_type": "stream",
     "text": [
      "2783915460\n"
     ]
    }
   ],
   "source": [
    "import itertools\n",
    "def lexicographic(n, digits):\n",
    "    return list(itertools.permutations(digits))[n - 1]\n",
    "if __name__ == '__main__':\n",
    "    permutation = list(lexicographic(1000000, '0123456789'))\n",
    "    print(''.join(permutation))"
   ]
  },
  {
   "cell_type": "markdown",
   "metadata": {},
   "source": [
    "In this sequence, we are using an import that uses the permutation to calculate the millionth lexicographic permutation for the numbers 0 through 9. We use \"n-1\" to define the pattern happenening from 0 to 9, then we import and call the \"itertools\" that allows us to access the Python permutation tool. Then, we simply insert which permutation we would like to know, in this case, the millionth."
   ]
  }
 ],
 "metadata": {
  "kernelspec": {
   "display_name": "Python 3",
   "language": "python",
   "name": "python3"
  },
  "language_info": {
   "codemirror_mode": {
    "name": "ipython",
    "version": 3
   },
   "file_extension": ".py",
   "mimetype": "text/x-python",
   "name": "python",
   "nbconvert_exporter": "python",
   "pygments_lexer": "ipython3",
   "version": "3.10.8"
  }
 },
 "nbformat": 4,
 "nbformat_minor": 2
}
